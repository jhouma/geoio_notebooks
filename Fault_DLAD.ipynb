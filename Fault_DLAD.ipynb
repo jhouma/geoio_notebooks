{
 "cells": [
  {
   "cell_type": "markdown",
   "metadata": {},
   "source": [
    "# Fault Filtering with GeoIO\n",
    "\n",
    "This notebook will show how to load polygon into nDI, rotate the color and filter with a polar widget. \n",
    "\n",
    "Author: Jie Hou Modified Date: 11/30/2020"
   ]
  },
  {
   "cell_type": "markdown",
   "metadata": {},
   "source": [
    "### import necessary packages"
   ]
  },
  {
   "cell_type": "code",
   "execution_count": 1,
   "metadata": {},
   "outputs": [],
   "source": [
    "from geoio.geoio import GeoIoFaultCollection, GeoIoDataLoadAndDisplay, GeoIoDladViewerType, GeoIoDladFeatureColor\n",
    "\n",
    "import pandas as pd\n",
    "\n",
    "import numpy as np\n",
    "\n",
    "import random\n",
    "\n",
    "import plotly.graph_objects as go\n",
    "\n",
    "import math\n",
    "\n",
    "import os"
   ]
  },
  {
   "cell_type": "code",
   "execution_count": 2,
   "metadata": {},
   "outputs": [
    {
     "name": "stdout",
     "output_type": "stream",
     "text": [
      "Help on class GeoIoDataLoadAndDisplay in module geoio.geoio:\n",
      "\n",
      "class GeoIoDataLoadAndDisplay(builtins.object)\n",
      " |  GeoIoDataLoadAndDisplay(*args)\n",
      " |  \n",
      " |  GeoIoDataLoadAndDisplay wraps the methods of nDI DataLoadAndDisplay class\n",
      " |  \n",
      " |     The constructor takes an input data file and coordinate system as the arguments.\n",
      " |     The supported data types are volume (.vt, .vds, .amp), horizon collection (.int), \n",
      " |     fault collection (.flt), well, earth model (.bin), mapl collection (.saf, .vs)\n",
      " |     trimesh (.ts) and polygon (.ply)\n",
      " |  \n",
      " |     To instantiate a GeoIoDataLoadAndDisplay, pass the data filepath \n",
      " |     and a coordinate system type(optional) to the constructor\n",
      " |  \n",
      " |        .. function:: GeoIoDataLoadAndDisplay(filepath, GeoIoDladCoordinateSystem)\n",
      " |  \n",
      " |           :param str filename: input data file\n",
      " |           :param GeoIoDladCoordinateSystem coordinate system: (optional) the coordinate systerm. The default is WORLDXY.\n",
      " |           :raises ValueError: Not able to find the data file or the survey.\n",
      " |  \n",
      " |  Methods defined here:\n",
      " |  \n",
      " |  __del__ lambda self\n",
      " |  \n",
      " |  __getattr__ lambda self, name\n",
      " |  \n",
      " |  __init__(self, *args)\n",
      " |      GeoIoDataLoadAndDisplay wraps the methods of nDI DataLoadAndDisplay class\n",
      " |      \n",
      " |         The constructor takes an input data file and coordinate system as the arguments.\n",
      " |         The supported data types are volume (.vt, .vds, .amp), horizon collection (.int), \n",
      " |         fault collection (.flt), well, earth model (.bin), mapl collection (.saf, .vs)\n",
      " |         trimesh (.ts) and polygon (.ply)\n",
      " |      \n",
      " |         To instantiate a GeoIoDataLoadAndDisplay, pass the data filepath \n",
      " |         and a coordinate system type(optional) to the constructor\n",
      " |      \n",
      " |            .. function:: GeoIoDataLoadAndDisplay(filepath, GeoIoDladCoordinateSystem)\n",
      " |      \n",
      " |               :param str filename: input data file\n",
      " |               :param GeoIoDladCoordinateSystem coordinate system: (optional) the coordinate systerm. The default is WORLDXY.\n",
      " |               :raises ValueError: Not able to find the data file or the survey.\n",
      " |  \n",
      " |  __repr__ = _swig_repr(self)\n",
      " |  \n",
      " |  __setattr__ lambda self, name, value\n",
      " |  \n",
      " |  load(self)\n",
      " |      Load the data into nDI. After instantiating a GeoIoDataLoadAndDisplay object, call load() to Load\n",
      " |      the data to nDI. For volumes(.vt, .vds, .amp), data will be loaded and turned on.\n",
      " |      \n",
      " |      ``geoio_dlad.load()``\n",
      " |  \n",
      " |  refresh(self)\n",
      " |      Refresh the nDI data manager and display \n",
      " |      \n",
      " |      ``geoio_dlad.refresh()``\n",
      " |  \n",
      " |  turn_off_items(self, *args)\n",
      " |      Turn off the item(s) of the data object loaded in nDI. \n",
      " |      \n",
      " |         To turn off a specific item of the data object\n",
      " |      \n",
      " |         .. function:: turn_off_items(name, viewerType)\n",
      " |      \n",
      " |            ``turn_off_items(name, GeoIoDladViewerType)``\n",
      " |      \n",
      " |            :param str name: item identifier\n",
      " |            :param GeoIoDladViewerType viewerType: (optional) viewer to turn off the item. Default is ALLVIEWERS\n",
      " |            :raises ValueError: Item identifier does not exist in the data object     \n",
      " |      \n",
      " |         To turn off a list of items of the data object\n",
      " |      \n",
      " |         .. function:: turn_off_items(names, viewerType)\n",
      " |      \n",
      " |            ``turn_off_items(names, GeoIoDladViewerType)``\n",
      " |      \n",
      " |            :param list(str) names: a list of item identifiers\n",
      " |            :param GeoIoDladViewerType viewerType: (optional) viewer to turn off the item. Default is ALLVIEWERS\n",
      " |            :raises ValueError: Item identifier does not exist in the data object\n",
      " |      \n",
      " |         To turn off all items of the data object\n",
      " |      \n",
      " |         .. function:: turn_off_items(viewerType)\n",
      " |      \n",
      " |            ``turn_on_items(GeoIoDladViewerType)``\n",
      " |      \n",
      " |            :param GeoIoDladViewerType viewerType: (optional) viewer to display the items. Default is ALLVIEWERS\n",
      " |            :raises ValueError: If there is no items in the data object\n",
      " |  \n",
      " |  turn_on_items(self, *args)\n",
      " |      Turn on the item(s) of the data object loaded in nDI. \n",
      " |      \n",
      " |         To turn on a specific item of the data object\n",
      " |      \n",
      " |         .. function:: turn_on_items(name, viewerType, color, attributeName)\n",
      " |      \n",
      " |            ``turn_on_items(name, GeoIoDladViewerType, GeoIoDladFeatureColor, attribute_name)``\n",
      " |      \n",
      " |            :param str name: item identifier\n",
      " |            :param GeoIoDladViewerType viewerType: (optional) viewer to display the item. Default is ALLVIEWERS\n",
      " |            :param GeoIoDladFeatureColor color: (optional) color to display the item. Default is None which is to keep original color\n",
      " |            :param str attributeName: (optional) attribue name. Default is empty string which is to display the nDI default attribute.\n",
      " |            :raises ValueError: Item identifier does not exist in the data object   \n",
      " |      \n",
      " |         To turn on a list of items of the data object\n",
      " |      \n",
      " |         .. function:: turn_on_items(names, viewerType, color)\n",
      " |      \n",
      " |            ``turn_on_items(names, GeoIoDladViewerType, GeoIoDladFeatureColor)``\n",
      " |      \n",
      " |            :param list(str) names: a list of item identifiers\n",
      " |            :param GeoIoDladViewerType viewerType: (optional) viewer to display the items. Default is ALLVIEWERS\n",
      " |            :param GeoIoDladFeatureColor color: (optional) color to display the items. Default is None which is to keep original color\n",
      " |            :raises ValueError: Item identifier does not exist in the data object\n",
      " |      \n",
      " |         To turn on all items of the data object\n",
      " |      \n",
      " |         .. function:: turn_on_items(viewerType, color)\n",
      " |      \n",
      " |            ``turn_on_items(GeoIoDladViewerType, GeoIoDladFeatureColor)``\n",
      " |      \n",
      " |            :param GeoIoDladViewerType viewerType: (optional) viewer to display the items. Default is ALLVIEWERS\n",
      " |            :param GeoIoDladFeatureColor color: (optional) color to display the items. Default is None which is to keep original color\n",
      " |            :raises ValueError: If there is no items in the data object\n",
      " |  \n",
      " |  unload(self)\n",
      " |      Unload the data from nDI. \n",
      " |      \n",
      " |      ``geoio_dlad.unload()``\n",
      " |  \n",
      " |  ----------------------------------------------------------------------\n",
      " |  Static methods defined here:\n",
      " |  \n",
      " |  __swig_destroy__ = delete_GeoIoDataLoadAndDisplay(...)\n",
      " |  \n",
      " |  ----------------------------------------------------------------------\n",
      " |  Data descriptors defined here:\n",
      " |  \n",
      " |  __dict__\n",
      " |      dictionary for instance variables (if defined)\n",
      " |  \n",
      " |  __weakref__\n",
      " |      list of weak references to the object (if defined)\n",
      " |  \n",
      " |  ----------------------------------------------------------------------\n",
      " |  Data and other attributes defined here:\n",
      " |  \n",
      " |  __swig_getmethods__ = {}\n",
      " |  \n",
      " |  __swig_setmethods__ = {}\n",
      "\n"
     ]
    }
   ],
   "source": [
    "help(GeoIoDataLoadAndDisplay)"
   ]
  },
  {
   "cell_type": "markdown",
   "metadata": {},
   "source": [
    "def a function to calculate strike and dip for a fault"
   ]
  },
  {
   "cell_type": "code",
   "execution_count": 2,
   "metadata": {},
   "outputs": [],
   "source": [
    "def calc_strikedip(pts):\n",
    "    ptA, ptB, ptC = pts[0], pts[1], pts[2]\n",
    "    x1, y1, z1 = float(ptA[0]), float(ptA[1]), float(ptA[2])\n",
    "    x2, y2, z2 = float(ptB[0]), float(ptB[1]), float(ptB[2])\n",
    "    x3, y3, z3 = float(ptC[0]), float(ptC[1]), float(ptC[2])\n",
    "\n",
    "    u1 = float(((y1 - y2) * (z3 - z2) - (y3 - y2) * (z1 - z2)))\n",
    "    u2 = float((-((x1 - x2) * (z3 - z2) - (x3 - x2) * (z1 - z2))))\n",
    "    u3 = float(((x1 - x2) * (y3 - y2) - (x3 - x2) * (y1 - y2)))\n",
    "\n",
    "    if u3 < 0:\n",
    "        easting = u2\n",
    "    else:\n",
    "        easting = -u2\n",
    "\n",
    "    if u3 > 0:\n",
    "        northing = u1\n",
    "    else:\n",
    "        northing = -u1\n",
    "\n",
    "    if easting >= 0:\n",
    "        partA_strike = math.pow(easting, 2) + math.pow(northing, 2)\n",
    "        strike = math.degrees(math.acos(northing / math.sqrt(partA_strike)))\n",
    "    else:\n",
    "        partA_strike = northing / math.sqrt(math.pow(easting, 2) + math.pow(northing, 2))\n",
    "        strike = math.degrees(2 * math.pi - math.acos(partA_strike))\n",
    "\n",
    "    # determine dip\n",
    "    # print(strike, 'strike')\n",
    "    part1_dip = math.sqrt(math.pow(u2, 2) + math.pow(u1, 2))\n",
    "    part2_dip = math.sqrt(math.pow(u1,2) + math.pow(u2,2) + math.pow(u3,2))\n",
    "    dip = math.degrees(math.asin(part1_dip / part2_dip))\n",
    "\n",
    "    return [strike, dip]"
   ]
  },
  {
   "cell_type": "code",
   "execution_count": 10,
   "metadata": {},
   "outputs": [],
   "source": [
    "FAULT_FILE = '/glb/data/siep_rii/sgsdata/usr/usjhs3/Demo/DLAD/GW_Frio_faults.flt'"
   ]
  },
  {
   "cell_type": "code",
   "execution_count": 4,
   "metadata": {},
   "outputs": [],
   "source": [
    "fault_collection = GeoIoFaultCollection(FAULT_FILE)"
   ]
  },
  {
   "cell_type": "code",
   "execution_count": 5,
   "metadata": {},
   "outputs": [],
   "source": [
    "fault_names = fault_collection.get_names()"
   ]
  },
  {
   "cell_type": "code",
   "execution_count": 6,
   "metadata": {},
   "outputs": [],
   "source": [
    "faults = pd.DataFrame(columns=['fault_name','strike','dip','length'])"
   ]
  },
  {
   "cell_type": "markdown",
   "metadata": {},
   "source": [
    "Compute strike and dipe for each fault in the fault collection"
   ]
  },
  {
   "cell_type": "code",
   "execution_count": 9,
   "metadata": {},
   "outputs": [],
   "source": [
    "for fault_name in fault_names:\n",
    "    if ((not fault_name.startswith('DELETE')) and (not fault_name.startswith('UNASSIGN'))):\n",
    "        fault = fault_collection.get_fault(fault_name)\n",
    "        fault_segments = fault.get_segments()\n",
    "        fault_data = pd.DataFrame(columns=['x','y','z'])\n",
    "        for segment in fault_segments:\n",
    "            fault_data = fault_data.append(pd.DataFrame(segment.get_points(),columns=['x','y','z']))\n",
    "        count = 0\n",
    "        strike_sum = dip_sum = 0\n",
    "        while count < 10:\n",
    "            try:\n",
    "                if (fault_data.shape[0]>3):\n",
    "                    p1, p2, p3 = np.sort(random.sample(range(0,fault_data.shape[0]),3))\n",
    "                    strike, dip = calc_strikedip(fault_data.iloc[[p1,p2,p3]].to_numpy())\n",
    "                    strike_sum += strike\n",
    "                    dip_sum += dip\n",
    "                    count +=1\n",
    "            except:\n",
    "                print(\"error\")\n",
    "                pass\n",
    "        strike = strike_sum/count\n",
    "        dip = dip_sum/count\n",
    "        length = (fault_data.z.max() - fault_data.z.min())/math.sin(dip/180*math.pi)\n",
    "        faults = faults.append({'fault_name':fault_name,'strike':strike,'dip':dip,'length':length},ignore_index=True)"
   ]
  },
  {
   "cell_type": "markdown",
   "metadata": {},
   "source": [
    "Launch nDI Volume"
   ]
  },
  {
   "cell_type": "code",
   "execution_count": 29,
   "metadata": {},
   "outputs": [
    {
     "data": {
      "text/plain": [
       "0"
      ]
     },
     "execution_count": 29,
     "metadata": {},
     "output_type": "execute_result"
    }
   ],
   "source": [
    "os.system(\"/apps/sss/share/nDIVolume&\")"
   ]
  },
  {
   "cell_type": "markdown",
   "metadata": {},
   "source": [
    "### Load the fault file and turn on in nDI"
   ]
  },
  {
   "cell_type": "code",
   "execution_count": 30,
   "metadata": {},
   "outputs": [],
   "source": [
    "fault_dlad = GeoIoDataLoadAndDisplay(FAULT_FILE)"
   ]
  },
  {
   "cell_type": "code",
   "execution_count": 31,
   "metadata": {},
   "outputs": [],
   "source": [
    "fault_dlad.load()"
   ]
  },
  {
   "cell_type": "code",
   "execution_count": 32,
   "metadata": {},
   "outputs": [],
   "source": [
    "fault_dlad.turn_on_items()"
   ]
  },
  {
   "cell_type": "markdown",
   "metadata": {},
   "source": [
    "## Rotate the color of the faults"
   ]
  },
  {
   "cell_type": "code",
   "execution_count": 33,
   "metadata": {},
   "outputs": [],
   "source": [
    "colors = [item for item in dir(GeoIoDladFeatureColor) if not item.startswith('__') and item != 'None']"
   ]
  },
  {
   "cell_type": "code",
   "execution_count": 34,
   "metadata": {},
   "outputs": [],
   "source": [
    "for fault_name in fault_names:\n",
    "    fault_dlad.turn_on_items(fault_name,GeoIoDladViewerType.VOLUMEVIEWER,getattr(GeoIoDladFeatureColor,random.choice(colors)) )"
   ]
  },
  {
   "cell_type": "markdown",
   "metadata": {},
   "source": [
    "## Polar Selection"
   ]
  },
  {
   "cell_type": "code",
   "execution_count": 35,
   "metadata": {},
   "outputs": [],
   "source": [
    "f = go.FigureWidget(data=go.Scatterpolar(r = faults['dip'].to_list(), theta = faults['strike'].to_list(), text = faults['fault_name'].to_list(), mode='markers'))"
   ]
  },
  {
   "cell_type": "code",
   "execution_count": 36,
   "metadata": {},
   "outputs": [],
   "source": [
    "def turn_on(trace, points, selector):\n",
    "    fault_dlad.turn_off_items()\n",
    "    fault_dlad.turn_on_items(faults.iloc[points.point_inds]['fault_name'].to_list())"
   ]
  },
  {
   "cell_type": "code",
   "execution_count": 37,
   "metadata": {},
   "outputs": [],
   "source": [
    "data = f.data[0]\n",
    "\n",
    "data.on_selection(turn_on)"
   ]
  }
 ],
 "metadata": {
  "kernelspec": {
   "display_name": "Python [conda env:geoio1125]",
   "language": "python",
   "name": "conda-env-geoio1125-py"
  },
  "language_info": {
   "codemirror_mode": {
    "name": "ipython",
    "version": 3
   },
   "file_extension": ".py",
   "mimetype": "text/x-python",
   "name": "python",
   "nbconvert_exporter": "python",
   "pygments_lexer": "ipython3",
   "version": "3.7.3"
  },
  "toc": {
   "base_numbering": 1,
   "nav_menu": {},
   "number_sections": true,
   "sideBar": true,
   "skip_h1_title": false,
   "title_cell": "Table of Contents",
   "title_sidebar": "Contents",
   "toc_cell": false,
   "toc_position": {},
   "toc_section_display": true,
   "toc_window_display": false
  },
  "widgets": {
   "application/vnd.jupyter.widget-state+json": {
    "state": {},
    "version_major": 2,
    "version_minor": 0
   }
  }
 },
 "nbformat": 4,
 "nbformat_minor": 4
}
