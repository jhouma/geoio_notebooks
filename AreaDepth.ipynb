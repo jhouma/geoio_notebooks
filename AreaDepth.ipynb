{
 "cells": [
  {
   "cell_type": "markdown",
   "metadata": {},
   "source": [
    "# Area Depth Computation\n",
    "\n",
    "This notebooks shows how to compute area depth from multiple polygons and one horizon.\n",
    "\n",
    "Author: Jie Hou Modified Date: 11/30/2020"
   ]
  },
  {
   "cell_type": "markdown",
   "metadata": {},
   "source": [
    "### Import the necessary library"
   ]
  },
  {
   "cell_type": "code",
   "execution_count": 3,
   "metadata": {},
   "outputs": [],
   "source": [
    "from geoio.geoio import GeoIoHorizonCollection, GeoIoPolygonCollection, FileMode_update, GeoIoShapeSegment\n",
    "\n",
    "from shapely import geometry\n",
    "\n",
    "import math\n",
    "\n",
    "import numpy as np\n",
    "\n",
    "import pandas as pd"
   ]
  },
  {
   "cell_type": "markdown",
   "metadata": {},
   "source": [
    "Define the input horizon collection, polygon collection and horizon name"
   ]
  },
  {
   "cell_type": "code",
   "execution_count": 6,
   "metadata": {},
   "outputs": [],
   "source": [
    "HORIZON_COLLECTION = \"/glb/am/sepco/proj/mex_exp2/cp_regional/ndi/salinas/events/Meijuan/Regional_Merged_Evts_FracCretPlay.int\"\n",
    "POLYGON_COLLECTION = \"/glb/am/sepco/proj/mex_exp2/cp_regional/ndi/salinas/polygons/Team_Lead_Polygons.ply\"\n",
    "HORIZON_NAME = \"0800_JB+RS+DT_GRID+EP\"\n",
    "DZ = 20"
   ]
  },
  {
   "cell_type": "code",
   "execution_count": 7,
   "metadata": {},
   "outputs": [],
   "source": [
    "hc = GeoIoHorizonCollection(HORIZON_COLLECTION)\n",
    "\n",
    "pc = GeoIoPolygonCollection(POLYGON_COLLECTION)"
   ]
  },
  {
   "cell_type": "code",
   "execution_count": 8,
   "metadata": {},
   "outputs": [],
   "source": [
    "event_name = [name for name in hc.get_event_names() if HORIZON_NAME in name][0]\n",
    "\n",
    "event = hc.get_event(event_name)\n",
    "\n",
    "survey = hc.get_survey()\n",
    "\n",
    "ijk_xyz_transform = survey.get_ijk_to_xyz_transform()\n"
   ]
  },
  {
   "cell_type": "markdown",
   "metadata": {},
   "source": [
    "Read in the spill points from a csv file (Optional)"
   ]
  },
  {
   "cell_type": "code",
   "execution_count": null,
   "metadata": {},
   "outputs": [],
   "source": [
    "#spill_point = pd.read_csv('SC2020OPT_Cret_Lead_SpillPointDepth.csv', index_col=0)"
   ]
  },
  {
   "cell_type": "code",
   "execution_count": 7,
   "metadata": {},
   "outputs": [],
   "source": [
    "total_depth = survey.delta_sample()*(survey.num_sample()-1)"
   ]
  },
  {
   "cell_type": "code",
   "execution_count": 8,
   "metadata": {},
   "outputs": [],
   "source": [
    "event_data = event.get_picks()"
   ]
  },
  {
   "cell_type": "code",
   "execution_count": 9,
   "metadata": {},
   "outputs": [],
   "source": [
    "x = np.zeros(event_data.shape,dtype=np.float32)\n",
    "y = np.zeros(event_data.shape,dtype=np.float32)"
   ]
  },
  {
   "cell_type": "code",
   "execution_count": 10,
   "metadata": {},
   "outputs": [],
   "source": [
    "for i in range(event_data.shape[0]):\n",
    "    for j in range(event_data.shape[1]):\n",
    "        xx,yy,_ = ijk_xyz_transform.to_target((i, j, 0))\n",
    "        x[i,j],y[i,j]=xx,yy"
   ]
  },
  {
   "cell_type": "code",
   "execution_count": 11,
   "metadata": {},
   "outputs": [],
   "source": [
    "output = list()"
   ]
  },
  {
   "cell_type": "markdown",
   "metadata": {},
   "source": [
    "Compuate Area Depth using the polygon and horizon"
   ]
  },
  {
   "cell_type": "code",
   "execution_count": 32,
   "metadata": {},
   "outputs": [
    {
     "name": "stdout",
     "output_type": "stream",
     "text": [
      "0\n",
      "10\n",
      "20\n",
      "30\n",
      "40\n",
      "50\n",
      "60\n",
      "70\n",
      "CPU times: user 22 s, sys: 0 ns, total: 22 s\n",
      "Wall time: 22 s\n"
     ]
    }
   ],
   "source": [
    "row = []\n",
    "\n",
    "for pol_index in range(71):\n",
    "    \n",
    "    if (pol_index % 10 ==0):\n",
    "        print(pol_index)\n",
    "        \n",
    "    # Read the polygon data from Polygon Collection\n",
    "    polygon_name = 'SC2020OPTCret_Lead_'+str(pol_index)\n",
    "    \n",
    "    polygon_name = [name for name in pc.get_names() if polygon_name in name][0]\n",
    "    \n",
    "    polygon = pc.get_polygon(polygon_name)\n",
    "    \n",
    "    segments = polygon.get_segments()\n",
    "    \n",
    "    polygon = geometry.Polygon(segments[0].get_points())\n",
    "    \n",
    "    bounds = polygon.bounds\n",
    "    \n",
    "    # Define the working AOI for each polygon\n",
    "    i1, j1, _ = ijk_xyz_transform.from_target((bounds[0], bounds[1],0))\n",
    "    \n",
    "    i2, j2, _ = ijk_xyz_transform.from_target((bounds[2], bounds[3],0))\n",
    "\n",
    "    imin = math.floor(min(i1,i2))\n",
    "\n",
    "    imax = math.ceil(max(i1,i2))\n",
    "\n",
    "    jmin= math.floor(min(j1,j2))\n",
    "\n",
    "    jmax = math.ceil(max(j1,j2))\n",
    "   \n",
    "    # Make imin,jmin to be zero if they are outside the survey\n",
    "    imin = 0 if imin<0 else imin\n",
    "    jmin = 0 if jmin<0 else jmin\n",
    "    \n",
    "    count = np.zeros(int(total_depth/DZ) + 1, dtype=np.float32)\n",
    "    \n",
    "    # Get the event data inside the AOI\n",
    "    data = event_data[imin:imax+1, jmin: jmax+1]\n",
    "\n",
    "    data_min = math.floor(np.nanmin(data)/DZ)*DZ\n",
    "    data_max = math.floor(np.nanmax(data)/DZ)*DZ\n",
    "    #data_max = math.ceil(spill_point['Spill point depth m'][pol_index]/DZ)*DZ + DZ\n",
    "    num_bins = int((data_max-data_min)/DZ)\n",
    "    \n",
    "    index = np.zeros(data.shape,dtype = np.bool)\n",
    "    \n",
    "    # Compute the area depth\n",
    "    for i in range(data.shape[0]):\n",
    "        for j in range(data.shape[1]):\n",
    "             if (geometry.Point(x[i+imin, j+jmin],y[i+imin, j+jmin]).within(polygon)):\n",
    "                index[i][j]=True \n",
    "                    \n",
    "    index2 = ~np.isnan(data)\n",
    "    edges = np.histogram_bin_edges(data[np.logical_and(index,index2)], bins=num_bins, range=(data_min,data_max))\n",
    "    edges = edges + 0.001\n",
    "    his, label = np.histogram(data[np.logical_and(index,index2)], bins=edges, range=(data_min,data_max))\n",
    "    \n",
    "    # Convert the unti to km^2\n",
    "    area = np.cumsum(his)*50*50/1000/1000\n",
    "    \n",
    "    for i in range(area.shape[0]):\n",
    "        if (area[i]>0):\n",
    "            outputarea = 0 if i ==0 else area[i-1]\n",
    "            row.append({\"polygon\":polygon_name.split('&')[0],\"depth\":int(label[i]),\"area\":outputarea})"
   ]
  },
  {
   "cell_type": "markdown",
   "metadata": {},
   "source": [
    "Convert the output to a dataframe and write to a csv"
   ]
  },
  {
   "cell_type": "code",
   "execution_count": 33,
   "metadata": {},
   "outputs": [],
   "source": [
    "output = pd.DataFrame(row)"
   ]
  },
  {
   "cell_type": "markdown",
   "metadata": {},
   "source": [
    "Save output to a csv file"
   ]
  },
  {
   "cell_type": "code",
   "execution_count": 34,
   "metadata": {},
   "outputs": [],
   "source": [
    "output.to_csv('~/SC2020OPT_Cret_Lead_SpillPointDepth.csv', index=False)"
   ]
  }
 ],
 "metadata": {
  "kernelspec": {
   "display_name": "Python [conda env:polygons]",
   "language": "python",
   "name": "conda-env-polygons-py"
  },
  "language_info": {
   "codemirror_mode": {
    "name": "ipython",
    "version": 3
   },
   "file_extension": ".py",
   "mimetype": "text/x-python",
   "name": "python",
   "nbconvert_exporter": "python",
   "pygments_lexer": "ipython3",
   "version": "3.7.6"
  },
  "widgets": {
   "application/vnd.jupyter.widget-state+json": {
    "state": {},
    "version_major": 2,
    "version_minor": 0
   }
  }
 },
 "nbformat": 4,
 "nbformat_minor": 4
}
