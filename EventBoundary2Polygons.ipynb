{
 "cells": [
  {
   "cell_type": "markdown",
   "metadata": {},
   "source": [
    "# Event Boundary to Polygon\n",
    "\n",
    "This notebook shows how to generate polygons from nDI event. It will work even if the event has multiple pieces or has holes. \n",
    "\n",
    "Author: Jie Hou Modified Date: 11/27/2020"
   ]
  },
  {
   "cell_type": "markdown",
   "metadata": {},
   "source": [
    "### Import necessary libraries\n",
    "\n",
    "- GeoIO is used to read/write nDI data\n",
    "- cv2 is used to generate the outline from the event"
   ]
  },
  {
   "cell_type": "code",
   "execution_count": 2,
   "metadata": {},
   "outputs": [],
   "source": [
    "from geoio.geoio import GeoIoHorizonCollection, GeoIoEvent, GeoIoPolygonCollection, FileMode_update, GeoIoShapeSegment\n",
    "import cv2\n",
    "from matplotlib import pyplot as plt\n",
    "import numpy as np"
   ]
  },
  {
   "cell_type": "markdown",
   "metadata": {},
   "source": [
    "### Read event from a horizon collection"
   ]
  },
  {
   "cell_type": "code",
   "execution_count": 51,
   "metadata": {},
   "outputs": [],
   "source": [
    "HORIZON_FILE = \"/glb/data/siep_rii/sgsdata/usr/usjhs3/Data/Temp/2015_Ph3_CM1-2_MASP.int\""
   ]
  },
  {
   "cell_type": "code",
   "execution_count": 52,
   "metadata": {},
   "outputs": [],
   "source": [
    "horizon_collection = GeoIoHorizonCollection(HORIZON_FILE)"
   ]
  },
  {
   "cell_type": "code",
   "execution_count": 53,
   "metadata": {},
   "outputs": [],
   "source": [
    "event_names = horizon_collection.get_event_names()"
   ]
  },
  {
   "cell_type": "code",
   "execution_count": 54,
   "metadata": {},
   "outputs": [
    {
     "data": {
      "text/plain": [
       "('2015 Conger_CM1-2_Net_Sand_Isopach_MAD_Zoraster&17',\n",
       " 'Conger_CM2_Net_Sand_Isopach_MAD&43703',\n",
       " 'Conger_CM2_Net_Sand_Isopach_MAD_Zoraster&65546',\n",
       " 'Conger_CM1_Net_Sand_Isopach_MAD_Zoraster&240290',\n",
       " 'Top Conger CM sands_ph3_+90_zop_HandSmooContours_Zoraster&262133',\n",
       " 'Conger_CM1_Net_Sand_Isopach_MAD&174761',\n",
       " 'Base Conger CM sands_ph3_+90_zop_HandSmooContours_Zoraster&152918',\n",
       " '2015 Conger_CM1-2_Net_Pay_Isopach_MAD_Zoraster&131075',\n",
       " '2015 Conger_CM1-2_Net_Pay_Isopach_MAD_Zoraster_polygon_3&109232',\n",
       " 'Conger_CM2_Net_Sand_Isopach_MAD_Polygon_3&87389',\n",
       " 'Conger_CM2_Net_Sand_Isopach_MAD_Zoraster_polygon_3&21860',\n",
       " 'Top Conger CM sands_ph3_+90_zop_HandSmooContours_Zoraster_polygon_3&218447',\n",
       " '2015 CM1 Top structure_HAFWL&196604')"
      ]
     },
     "execution_count": 54,
     "metadata": {},
     "output_type": "execute_result"
    }
   ],
   "source": [
    "event_names"
   ]
  },
  {
   "cell_type": "markdown",
   "metadata": {},
   "source": [
    "### Get the x,y information about the horizon"
   ]
  },
  {
   "cell_type": "code",
   "execution_count": 55,
   "metadata": {},
   "outputs": [],
   "source": [
    "survey = horizon_collection.get_survey()"
   ]
  },
  {
   "cell_type": "code",
   "execution_count": 56,
   "metadata": {},
   "outputs": [],
   "source": [
    "coord_transform = survey.get_ijk_to_xyz_transform()\n",
    "\n",
    "first_x, first_y, _ = coord_transform.to_target((0, 0, 0))\n",
    "last_x, last_y, _ = coord_transform.to_target((survey.num_i()-1, survey.num_j()-1, 0))\n",
    "\n",
    "delta_x = (last_x - first_x)/(survey.num_i()-1)\n",
    "delta_y = (last_y - first_y)/(survey.num_j()-1)\n",
    "\n",
    "x= np.linspace(first_x, last_x, survey.num_i())\n",
    "y= np.linspace(first_y, last_y, survey.num_j())\n",
    "\n",
    "extent= (first_x, last_x,first_y,last_y)\n"
   ]
  },
  {
   "cell_type": "markdown",
   "metadata": {},
   "source": [
    "### Read the data from event and convert it to a binary image"
   ]
  },
  {
   "cell_type": "code",
   "execution_count": 57,
   "metadata": {},
   "outputs": [],
   "source": [
    "event = horizon_collection.get_event(event_names[0])\n",
    "data = event.get_picks()"
   ]
  },
  {
   "cell_type": "code",
   "execution_count": 58,
   "metadata": {},
   "outputs": [],
   "source": [
    "data[~np.isnan(data)]=1\n",
    "\n",
    "data = data.astype(np.uint8)"
   ]
  },
  {
   "cell_type": "code",
   "execution_count": 59,
   "metadata": {},
   "outputs": [],
   "source": [
    "xgrid, ygrid = np.meshgrid(x,y)"
   ]
  },
  {
   "cell_type": "code",
   "execution_count": 60,
   "metadata": {},
   "outputs": [
    {
     "name": "stderr",
     "output_type": "stream",
     "text": [
      "/glb/data/siep_rii/sgsdata/usr/usjhs3/App/anaconda3/lib/python3.6/site-packages/ipykernel_launcher.py:2: MatplotlibDeprecationWarning: shading='flat' when X and Y have the same dimensions as C is deprecated since 3.3.  Either specify the corners of the quadrilaterals with X and Y, or pass shading='auto', 'nearest' or 'gouraud', or set rcParams['pcolor.shading'].  This will become an error two minor releases later.\n",
      "  \n"
     ]
    },
    {
     "data": {
      "image/png": "[encoded data removed]",
      "text/plain": [
       "<Figure size 432x288 with 1 Axes>"
      ]
     },
     "metadata": {
      "needs_background": "light"
     },
     "output_type": "display_data"
    }
   ],
   "source": [
    "#plt.imshow(data, extent=extent, col = 'gray') #this is matplotlib solution (Figure 1)\n",
    "plt.pcolormesh(xgrid,ygrid,data.T)\n",
    "plt.show()"
   ]
  },
  {
   "cell_type": "markdown",
   "metadata": {},
   "source": [
    "### Use OpenCV to generate the bounary from the binary image"
   ]
  },
  {
   "cell_type": "code",
   "execution_count": 61,
   "metadata": {},
   "outputs": [],
   "source": [
    "ret,thresh1 = cv2.threshold(data,0,255,cv2.THRESH_BINARY) "
   ]
  },
  {
   "cell_type": "code",
   "execution_count": 62,
   "metadata": {},
   "outputs": [],
   "source": [
    "image,contours, _= cv2.findContours(data.copy(),cv2.RETR_TREE,cv2.CHAIN_APPROX_NONE) #find contours"
   ]
  },
  {
   "cell_type": "code",
   "execution_count": 63,
   "metadata": {},
   "outputs": [
    {
     "name": "stdout",
     "output_type": "stream",
     "text": [
      "number of coins: 1\n"
     ]
    }
   ],
   "source": [
    "print('number of polygons: %d' % len(contours))\n"
   ]
  },
  {
   "cell_type": "code",
   "execution_count": 65,
   "metadata": {},
   "outputs": [
    {
     "name": "stderr",
     "output_type": "stream",
     "text": [
      "/glb/data/siep_rii/sgsdata/usr/usjhs3/App/anaconda3/lib/python3.6/site-packages/ipykernel_launcher.py:2: MatplotlibDeprecationWarning: shading='flat' when X and Y have the same dimensions as C is deprecated since 3.3.  Either specify the corners of the quadrilaterals with X and Y, or pass shading='auto', 'nearest' or 'gouraud', or set rcParams['pcolor.shading'].  This will become an error two minor releases later.\n",
      "  \n"
     ]
    },
    {
     "data": {
      "image/png": "[encoded data removed]",
      "text/plain": [
       "<Figure size 432x288 with 1 Axes>"
      ]
     },
     "metadata": {
      "needs_background": "light"
     },
     "output_type": "display_data"
    }
   ],
   "source": [
    "plt.figure()\n",
    "plt.pcolormesh(xgrid,ygrid,data.T)\n",
    "for i in range(len(contours)):\n",
    "    x,y = contours[i][:,0,0],contours[i][:,0,1]\n",
    "    coord = [coord_transform.to_target((y[i], x[i], 0)) for i in range(len(x))]    \n",
    "    for j in range(len(x)):\n",
    "        plt.scatter(coord[j][0],coord[j][1])"
   ]
  },
  {
   "cell_type": "markdown",
   "metadata": {},
   "source": [
    "### Create a polygon collection and write the boundary as a polygon into the collection"
   ]
  },
  {
   "cell_type": "code",
   "execution_count": 66,
   "metadata": {},
   "outputs": [],
   "source": [
    "outputpolygon = GeoIoPolygonCollection('output.ply',survey)\n",
    "\n",
    "outputpoly = outputpolygon.create_polygon('Output_Polygon')\n",
    "\n",
    "segments = list()\n",
    "for i in range(len(contours)):\n",
    "    x,y = contours[i][:,0,0],contours[i][:,0,1]\n",
    "    coord = [coord_transform.to_target((y[i], x[i], 0)) for i in range(len(x))]\n",
    "    coord.append(coord[0])\n",
    "    outputpoly_points = list(coord)\n",
    "    segment = GeoIoShapeSegment()\n",
    "    segment.set_points(outputpoly_points)\n",
    "    segments.append(segment)\n",
    "\n",
    "outputpoly.set_segments(segments)\n",
    "\n",
    "outputpolygon.delete_polygon(outputpoly.get_name())"
   ]
  }
 ],
 "metadata": {
  "kernelspec": {
   "display_name": "polygons",
   "language": "python",
   "name": "polygons"
  },
  "language_info": {
   "codemirror_mode": {
    "name": "ipython",
    "version": 3
   },
   "file_extension": ".py",
   "mimetype": "text/x-python",
   "name": "python",
   "nbconvert_exporter": "python",
   "pygments_lexer": "ipython3",
   "version": "3.6.10"
  },
  "widgets": {
   "application/vnd.jupyter.widget-state+json": {
    "state": {},
    "version_major": 2,
    "version_minor": 0
   }
  }
 },
 "nbformat": 4,
 "nbformat_minor": 4
}
